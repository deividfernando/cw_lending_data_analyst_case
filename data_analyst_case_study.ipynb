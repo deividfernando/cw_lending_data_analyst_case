{
 "cells": [
  {
   "cell_type": "code",
   "execution_count": null,
   "metadata": {},
   "outputs": [],
   "source": [
    "run_all = True"
   ]
  },
  {
   "cell_type": "markdown",
   "metadata": {},
   "source": [
    "### **CREATION AND POPULATION OF DATABASE TABLES**\n",
    "\n",
    "If this is the first time running the project, execute the code block below to create the tables and populate the database with the information from the CSV files."
   ]
  },
  {
   "cell_type": "code",
   "execution_count": null,
   "metadata": {},
   "outputs": [],
   "source": [
    "if not 'run_all' in locals():\n",
    "    run_all = False\n",
    "    \n",
    "if not run_all:\n",
    "    from run import run\n",
    "\n",
    "    run()"
   ]
  },
  {
   "cell_type": "markdown",
   "metadata": {},
   "source": [
    "### **DEPENDENCIES**"
   ]
  },
  {
   "cell_type": "code",
   "execution_count": null,
   "metadata": {
    "tags": [
     "parameters"
    ]
   },
   "outputs": [],
   "source": [
    "import sys\n",
    "from pathlib import Path\n",
    "notebook_dir = Path.cwd()\n",
    "project_dir = notebook_dir.parent.parent\n",
    "sys.path.append(str(project_dir))\n",
    "from app.orm import init_db\n",
    "from app.services.data_queries import DataQueries\n",
    "from app.services.visualization import Visualization\n",
    "\n",
    "# Instantiating Classes\n",
    "data_queries = DataQueries()\n",
    "visualization = Visualization()"
   ]
  },
  {
   "cell_type": "markdown",
   "metadata": {},
   "source": [
    "### **DATA DESCRIPTION**"
   ]
  },
  {
   "cell_type": "markdown",
   "metadata": {},
   "source": [
    "\n",
    "The data used in this analysis contains detailed information about clients and their loans, divided into two main tables: clients and loans.\n",
    "\n",
    "**Column Descriptions**\n",
    "\n",
    "1. **user_id**: Unique identifier for each client.\n",
    "\n",
    "- Example: **1**\n",
    "    - Importance: Used to associate clients with their respective loans in the LoanModel table.\n",
    "\n",
    "2. **client_status**: Status of the client, indicating whether the client was approved or denied for loans.\n",
    "\n",
    "- Example: **approved**, **denied**\n",
    "    - Importance: Helps filter clients based on their eligibility for loans.\n",
    "\n",
    "3. **batch**: Identifier for the batch of clients. Batches can represent different campaigns or periods of client intake.\n",
    "\n",
    "- Example: **1**, **2**\n",
    "    - Importance: Allows for analysis of adherence and performance of different client groups.\n",
    "\n",
    "4. **credit_limit**: Approved credit limit for the client.\n",
    "\n",
    "- Example: **10000**\n",
    "    - Importance: Indicates the maximum amount a client can borrow, useful for risk analysis and loan capacity.\n",
    "\n",
    "5. **client_interest_rate**: Interest rate associated with the client.\n",
    "\n",
    "- Example: **5**, **7**\n",
    "    - Importance: Essential for calculating loan costs and expected returns.\n",
    "\n",
    "6. **loan_id**: Unique identifier for each loan.\n",
    "\n",
    "- Example: **1001**\n",
    "    - Importance: Used to distinguish different loans within the LoanModel table.\n",
    "\n",
    "7. **loan_created_at**: Date the loan was created.\n",
    "\n",
    "- Example: **2022-01-01**\n",
    "    - Importance: Used for temporal analysis of loans, such as seasonality and trend analysis.\n",
    "\n",
    "8. **due_at**: Due date of the loan.\n",
    "\n",
    "- Example: **2022-06-01**\n",
    "    - Importance: Crucial for calculating the loan period and determining adherence.\n",
    "\n",
    "9. **paid_at**: Date the loan was paid.\n",
    "\n",
    "- Example: **2022-06-01**\n",
    "    - Importance: Helps identify paid-off loans and calculate realized profits.\n",
    "\n",
    "10. **loan_status**: Status of the loan, indicating whether it is ongoing, paid, or defaulted.\n",
    "\n",
    "- Example: **paid**, **ongoing**, **default**\n",
    "    - Importance: Fundamental for evaluating the financial health of the loan portfolio.\n",
    "\n",
    "11. **loan_amount**: Principal amount of the loan.\n",
    "\n",
    "- Example: **5000**\n",
    "    - Importance: Basis for calculating returns and risk analysis.\n",
    "\n",
    "12. **due_amount**: Total amount to be paid, including interest and fees.\n",
    "\n",
    "- Example: **5500**\n",
    "    - Importance: Used to calculate gross profit and analyze clients' payment capacity.\n",
    "\n",
    "13. **amount_paid**: Amount paid to date.\n",
    "\n",
    "- Example: **5500**\n",
    "    - Importance: Essential for calculating realized profits and identifying defaults.\n",
    "\n",
    "14. **tax**: Amount of fees applied to the loan.\n",
    "\n",
    "- Example: **500**\n",
    "    - Importance: Directly impacts the cost of the loan for the client and the return for the institution.\n",
    "\n",
    "\n",
    "**Data Analysis and Objectives**\n",
    "\n",
    "The primary objective of the collected and analyzed data is to evaluate client performance and loan portfolio profitability. Through the above information, we can:\n",
    "\n",
    "Identify the Best and Worst Clients: Based on net return (due_amount - loan_amount) and the status of loans (paid, ongoing, default).\n",
    "Evaluate Adherence by Batch: By analyzing the number of clients per batch who applied for loans and the outcomes of these applications.\n",
    "Calculate Default Rate: By month and batch, helping to identify risk patterns.\n",
    "Analyze Operation Profitability: By comparing realized profit with loss and making predictions based on defaults and ongoing loans.\n",
    "Evaluate the Impact of Interest Rates: By observing how different interest rates affect defaults and profitability.\n",
    "This detailed analysis enables the board to make informed decisions regarding credit strategies, risk management, and optimization of the loan portfolio's profitability"
   ]
  },
  {
   "cell_type": "code",
   "execution_count": null,
   "metadata": {},
   "outputs": [],
   "source": [
    "df_data = data_queries.get_combined_data()\n",
    "visualization.display_combined_data_sample(df_data)"
   ]
  },
  {
   "cell_type": "markdown",
   "metadata": {},
   "source": [
    "### **LOAN ISSUANCE**\n",
    "\n",
    "Loan issuance analysis by month"
   ]
  },
  {
   "cell_type": "markdown",
   "metadata": {},
   "source": [
    "**Analysis Methodology**\n",
    "\n",
    "To identify the best months for loan issuance, we considered the following information:\n",
    "\n",
    "1. Number of loans issued in the month\n",
    "2. Total value of loans issued in the month"
   ]
  },
  {
   "cell_type": "markdown",
   "metadata": {},
   "source": [
    "#### **Comparative Analysis Between Loan Quantity and Loan Amount**\n",
    "\n",
    "In the first graph, we have two lines:\n",
    "1. Blue Line: Loan Quantity\n",
    "2. Orange Line: Loan Amount\n",
    "\n",
    "We can observe that both values are proportionally aligned."
   ]
  },
  {
   "cell_type": "code",
   "execution_count": null,
   "metadata": {},
   "outputs": [],
   "source": [
    "best_month_loan_issuance = data_queries.get_best_month_loan_issuance()\n",
    "visualization.plot_loan_issuance_trend(best_month_loan_issuance)"
   ]
  },
  {
   "cell_type": "markdown",
   "metadata": {},
   "source": [
    "#### **Average Loan Amount Per Month**\n",
    "\n",
    "This second graph supports the information from the first, as we can clearly see that the average loan amount contracted per month remained constant for most of the period."
   ]
  },
  {
   "cell_type": "code",
   "execution_count": null,
   "metadata": {},
   "outputs": [],
   "source": [
    "average_loan_amount_by_month_data = data_queries.get_average_loan_amount_by_month()\n",
    "# Plotar o valor médio de empréstimos por mês\n",
    "visualization.plot_average_loan_amount_by_month(average_loan_amount_by_month_data)"
   ]
  },
  {
   "cell_type": "markdown",
   "metadata": {},
   "source": [
    "#### **Top 5 Loan Issuance Months**\n",
    "\n",
    "Finally, we have a ranking of the top 5 months for loan issuance during the period.\n",
    "\n",
    "For analysis purposes, two charts were created:\n",
    "1. Ranking of months by number of loans issued\n",
    "2. Ranking of months by total amount loaned\n",
    "\n",
    "In both cases, the result was the same, with December 2023 being the month with the highest number of loans and the highest total amount loaned.\n",
    "\n",
    "The two charts are identical due to the information confirmed in the previous graph: since the average loan amount remained constant, a higher number of loans represents a higher total amount loaned, and vice versa."
   ]
  },
  {
   "cell_type": "code",
   "execution_count": null,
   "metadata": {},
   "outputs": [],
   "source": [
    "visualization.plot_top_loan_months(best_month_loan_issuance)"
   ]
  },
  {
   "cell_type": "markdown",
   "metadata": {},
   "source": [
    "### **ADHERENCE BY CLIENT BATCH**\n",
    "\n",
    "Let's understand how the adherence to loans was by clients in each batch."
   ]
  },
  {
   "cell_type": "markdown",
   "metadata": {},
   "source": [
    "#### **Absolute Values by Batch**\n",
    "\n",
    "Initially, to have a broad view of the information, let's visualize the data for each batch.\n",
    "\n",
    "In the following two charts, we can see:\n",
    "1. Number of Clients by Batch\n",
    "2. Number of Loans by Batch\n",
    "\n",
    "In absolute values, we have Batch 1 with the highest number of clients and loans.\n"
   ]
  },
  {
   "cell_type": "code",
   "execution_count": null,
   "metadata": {},
   "outputs": [],
   "source": [
    "batch_metrics = data_queries.get_batch_metrics()\n",
    "visualization.plot_pie_charts(batch_metrics)"
   ]
  },
  {
   "cell_type": "markdown",
   "metadata": {},
   "source": [
    "#### **Adherence**\n",
    "\n",
    "Here we have an analysis by batch.\n",
    "\n",
    "Regarding adherence, three metrics were considered:\n",
    "1. Blue: Average loans contracted per client\n",
    "2. Orange: Percentage of Clients with a contracted loan\n",
    "3. Green: Percentage of Clients with a paid loan\n",
    "\n",
    "For a financial institution, simply analyzing loan contracts is not enough. We need to understand which client batch has the highest compliance.\n",
    "\n",
    "Thus, we had the following results:\n",
    "\n",
    "**Highest Average Loans: Batch 1**\n",
    "\n",
    "**Highest Percentage of Contracted Loans: Batch 1**\n",
    "\n",
    "**Highest Percentage of Paid Loans: Batch 3**\n"
   ]
  },
  {
   "cell_type": "markdown",
   "metadata": {},
   "source": [
    "Thus, although Batch 1 had higher adherence to loans, both in absolute and average analysis, it is **Batch 3** that presents a better financial return.\n"
   ]
  },
  {
   "cell_type": "code",
   "execution_count": null,
   "metadata": {},
   "outputs": [],
   "source": [
    "visualization.plot_batch_metrics(batch_metrics)"
   ]
  },
  {
   "cell_type": "markdown",
   "metadata": {},
   "source": [
    "### **INTEREST RATES**\n",
    "\n",
    "Analysis of Default Rates by Interest Rate\n"
   ]
  },
  {
   "cell_type": "markdown",
   "metadata": {},
   "source": [
    "#### **Default Rates**\n",
    "\n",
    "**Methodology**\n",
    "\n",
    "Only interest rates with some defaults were considered as indexes. In the initial analysis, we identified that all interest rate ranges have defaults.\n",
    "\n",
    "**Analysis**\n",
    "\n",
    "In the first chart, we display two bars for each interest rate:\n",
    "1. Number of loans contracted\n",
    "2. Default rate percentage on the loans contracted\n",
    "\n",
    "In the second chart, we show the default rate percentage of each interest rate on the total defaults.\n",
    "\n",
    "**Conclusion**\n",
    "\n",
    "Default rates do not vary with higher or lower interest rates, as we can see in the charts.\n",
    "\n",
    "Both the default rate percentage on the loans for that interest rate and the percentage on the total defaults have minimal variation, demonstrating that there is no correlation between interest rate and default rates.\n"
   ]
  },
  {
   "cell_type": "code",
   "execution_count": null,
   "metadata": {},
   "outputs": [],
   "source": [
    "interest_rate_outcomes = data_queries.get_interest_rate_outcomes()\n",
    "visualization.plot_interest_rate_outcomes(interest_rate_outcomes)"
   ]
  },
  {
   "cell_type": "markdown",
   "metadata": {},
   "source": [
    "### **BEST AND WORST CLIENTS**\n",
    "\n",
    "Ranking of the top 10 best and 10 worst clients, considering their loans.\n"
   ]
  },
  {
   "cell_type": "markdown",
   "metadata": {},
   "source": [
    "#### **Methodology**"
   ]
  },
  {
   "cell_type": "markdown",
   "metadata": {},
   "source": [
    "To perform the loan data analysis and identify the best and worst clients, we applied the following methodology:\n",
    "\n",
    "1. **Selection Criteria:**\n",
    "\n",
    "    - **Best Clients:**\n",
    "        - Clients who generated the most profit for the company.\n",
    "        - Status: approved.\n",
    "        - At least one loan with status paid and one with status ongoing.\n",
    "        - No loan with status default.\n",
    "        - Ranked by profit generated (due_amount - loan_amount) in descending order.\n",
    "        \n",
    "    - **Worst Clients:**\n",
    "        - Clients who generated the most loss for the company.\n",
    "        - Ranked by loss generated (paid_amount - loan_amount) in descending order.\n",
    "\n",
    "2. **Loan Analysis:**\n",
    "\n",
    "    - **Best Clients:** Clients who generated the most profit for the company.\n",
    "    - **Worst Clients:** Clients who generated the most loss for the company.\n",
    "\n",
    "The data was structured into:\n",
    "1. Two tables, containing the Client ID and the profit/loss value.\n",
    "2. Two charts, with the ranking of the best and worst clients.\n"
   ]
  },
  {
   "cell_type": "code",
   "execution_count": null,
   "metadata": {},
   "outputs": [],
   "source": [
    "best_clients, worst_clients = data_queries.get_client_ranking()\n",
    "visualization.plot_client_ranking(best_clients, worst_clients)"
   ]
  },
  {
   "cell_type": "markdown",
   "metadata": {},
   "source": [
    "### **DEFAULT RATE - MONTH AND BATCH**\n",
    "\n",
    "Analysis of default rates, considering the client's batch and the month.\n"
   ]
  },
  {
   "cell_type": "markdown",
   "metadata": {},
   "source": [
    "#### **Overview**\n",
    "\n",
    "Initially, let's take an overall look at the scenario.\n",
    "\n",
    "**Total Loans Issued: 150,708**\n",
    "\n",
    "**Total Defaulted Loans: 12,341**\n",
    "\n",
    "**Default Rate: 8%**\n"
   ]
  },
  {
   "cell_type": "code",
   "execution_count": null,
   "metadata": {},
   "outputs": [],
   "source": [
    "total_loans, default_loans, default_rate = data_queries.get_overall_default_rate()\n",
    "visualization.plot_overall_default_rate(total_loans, default_loans, default_rate)"
   ]
  },
  {
   "cell_type": "markdown",
   "metadata": {},
   "source": [
    "#### **Analysis**\n",
    "\n",
    "Now, to expand the analysis, we have 3 charts:\n",
    "\n",
    "\n",
    "**Average Default Rate by Month and Batch**\n",
    "1. The default rate is calculated as the proportion of defaulted loans relative to the total loans issued for that group (month and batch).\n",
    "2. Each bar represents the default rate (in %) of a specific batch in a given month.\n",
    "\n",
    "We can notice two extreme values in the average default rate. Both occurred for Batch 3, in the months of January 2020 and February 2020.\n",
    "\n",
    "Conversely, there is no default for the last three months of the period: November 2023, December 2023, and January 2024.\n",
    "\n",
    "\n",
    "**Total Number of Defaulted Loans by Month and Batch**\n",
    "1. A count of the total number of defaulted loans was done for each batch per month.\n",
    "\n",
    "We can identify that the number is proportional to the number of loans we have in each batch, as seen in [CLIENT BATCH ADHERENCE](#client-batch-adherence).\n",
    "\n",
    "\n",
    "**Default Percentage in the Month**\n",
    "1. Calculation of the default percentage of each batch relative to the total default in the month.\n",
    "\n",
    "Batch 1 shows a higher default percentage compared to the other batches in most months, followed by batch 2.\n",
    "\n",
    "In January 2020, we had a very different scenario from the other months, where batches 1, 2, and 3 had the same percentage, with batch 4 being empty.\n"
   ]
  },
  {
   "cell_type": "code",
   "execution_count": null,
   "metadata": {},
   "outputs": [],
   "source": [
    "default_rate_by_month_and_batch = data_queries.get_default_rate_by_month_and_batch()\n",
    "visualization.plot_default_rate_by_month_and_batch(default_rate_by_month_and_batch)"
   ]
  },
  {
   "cell_type": "markdown",
   "metadata": {},
   "source": [
    "### **PROFITABILITY**\n",
    "\n",
    "Analysis of the profitability of the loan operation\n"
   ]
  },
  {
   "cell_type": "markdown",
   "metadata": {},
   "source": [
    "#### **Methodology**"
   ]
  },
  {
   "cell_type": "markdown",
   "metadata": {},
   "source": [
    "To understand the profitability of the operation, it was necessary to establish some points.\n",
    "\n",
    "1. **Realized Profit Paid**: Realized profit from paid loans. (paid_amount - loan_amount where status = paid)\n",
    "2. **Realized Profit Ongoing**: Realized profit from ongoing loans. (paid_amount - loan_amount where status = ongoing and paid_amount > loan_amount)\n",
    "3. **Loss**: Loss from defaulted loans. (loan_amount - paid_amount where status = default)\n",
    "4. **Real Operation Profit**: The sum of realized profits minus the losses.\n",
    "5. **Overall Default Rate**: The overall default rate of the operation.\n",
    "6. **Expected Profit Ongoing**: Expected profit from ongoing loans, already discounting defaults. (due_amount - loan_amount where status = ongoing and paid_amount < loan_amount)\n"
   ]
  },
  {
   "cell_type": "markdown",
   "metadata": {},
   "source": [
    "##### **Result**\n",
    "\n",
    "An objective view of the operation's result.\n",
    "\n",
    "We divided the total profit of the operation into two main categories:\n",
    "\n",
    "1. **Realized Profit**: Represented in green, this segment shows the portion of the profit actually realized by the company. This includes both the profit from paid loans and the profit from ongoing loans that have already exceeded the initial loan amount.\n",
    "\n",
    "2. **Loss**: Represented in red, this segment indicates the portion that was lost due to loan defaults, where the amount paid was less than the initial loan amount.\n"
   ]
  },
  {
   "cell_type": "code",
   "execution_count": null,
   "metadata": {},
   "outputs": [],
   "source": [
    "profitability_data, overall_default_rate = data_queries.get_overall_profitability_data()\n",
    "visualization.plot_pie_chart(profitability_data)"
   ]
  },
  {
   "cell_type": "markdown",
   "metadata": {},
   "source": [
    "##### **Profit and Loss**\n",
    "\n",
    "Here we have a comparative view of various profit and loss metrics for the loan operation. This helps understand not only past performance but also future profit and loss forecasts, considering the impact of defaults.\n",
    "\n",
    "**Chart Components**\n",
    "\n",
    "1. **Realized Profit**: Represented by the blue bar, this value sums the profit from paid loans and ongoing loans that have already exceeded the initial loan amount.\n",
    "2. **Loss**: Represented by the red bar, this metric includes the sum of losses resulting from defaults, where the amount paid was less than the loan amount.\n",
    "3. **Real Profit**: Represented by the green bar, this value is calculated by subtracting the loss from the realized profit, providing a clear view of the actual profit of the operation.\n",
    "4. **Expected Profit**: Represented by the orange bar, this metric considers the projected profit from ongoing loans, adjusted by the average default rate. This helps estimate the profit the company can expect, assuming the default rate remains constant.\n",
    "5. **Expected Loss**: Represented by the purple bar, this metric calculates the expected loss considering the average default rate applied to ongoing loans.\n",
    "6. **Expected Result**: Represented by the gray bar, this value is the difference between the expected profit and the expected loss, providing an outlook on the expected net profit in the future.\n"
   ]
  },
  {
   "cell_type": "code",
   "execution_count": null,
   "metadata": {},
   "outputs": [],
   "source": [
    "visualization.plot_bar_chart(profitability_data, overall_default_rate)"
   ]
  },
  {
   "cell_type": "markdown",
   "metadata": {},
   "source": [
    "#### **Real Profit Evolution**\n",
    "\n",
    "Here we have a clear and detailed view of the evolution of real profit and loss over time.\n",
    "\n",
    "**Chart Components**\n",
    "\n",
    "1. Real Profit: Represented by the green bars, this value is the result of the realized profit minus the loss for each month. It represents the final amount after considering default losses.\n",
    "2. Loss: Represented by the red bars, this value is the sum of monthly losses due to defaults, where the amount paid was less than the amount borrowed.\n",
    "\n",
    "To facilitate interpretation and visualization of the values, we have a table with the months and their respective profit and loss values.\n",
    "\n",
    "**Analysis**\n",
    "\n",
    "There is a growing trend in both real profit and loss over the months, maintaining a consistent pattern. This trend continues until October 2023, when in the following month, November 2023, there was a 79.90% drop in real profit, and the loss went to zero."
   ]
  },
  {
   "cell_type": "code",
   "execution_count": null,
   "metadata": {},
   "outputs": [],
   "source": [
    "profitability_trend_data = data_queries.get_profitability_data()\n",
    "visualization.plot_real_profit_trend(profitability_trend_data)\n",
    "visualization.plot_profit_table(profitability_trend_data)"
   ]
  }
 ],
 "metadata": {
  "kernelspec": {
   "display_name": "Python 3",
   "language": "python",
   "name": "python3"
  },
  "language_info": {
   "codemirror_mode": {
    "name": "ipython",
    "version": 3
   },
   "file_extension": ".py",
   "mimetype": "text/x-python",
   "name": "python",
   "nbconvert_exporter": "python",
   "pygments_lexer": "ipython3",
   "version": "3.12.0"
  }
 },
 "nbformat": 4,
 "nbformat_minor": 2
}
